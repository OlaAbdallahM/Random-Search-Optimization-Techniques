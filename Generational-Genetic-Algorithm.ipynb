{
 "cells": [
  {
   "cell_type": "code",
   "execution_count": 1,
   "id": "042f76be",
   "metadata": {},
   "outputs": [],
   "source": [
    "import numpy as np\n",
    "import pandas as pd\n",
    "import random\n",
    "from copy import deepcopy\n",
    "import matplotlib.pyplot as plt"
   ]
  },
  {
   "cell_type": "code",
   "execution_count": 2,
   "id": "c6c5d86f",
   "metadata": {},
   "outputs": [],
   "source": [
    "class city():\n",
    "    def __init__(self,name,x,y):\n",
    "        self.name=name\n",
    "        self.x=x\n",
    "        self.y=y\n",
    "        \n",
    "    def __repr__(self):\n",
    "        print(self.name,self.x,self.x)\n",
    "        return ''"
   ]
  },
  {
   "cell_type": "code",
   "execution_count": 3,
   "id": "3363b56b",
   "metadata": {},
   "outputs": [],
   "source": [
    "class chromosome:\n",
    "    def __init__(self, lst):\n",
    "        self.path = lst\n",
    "        self.fitness = -1\n",
    "        self.cost = -1\n",
    "    \n",
    "    def __repr__(self):\n",
    "        print(self.path,self.cost)\n",
    "        return ''"
   ]
  },
  {
   "cell_type": "code",
   "execution_count": 4,
   "id": "6ae6be2c",
   "metadata": {},
   "outputs": [],
   "source": [
    "def calc_dist(p1,p2):\n",
    "    return np.sqrt((p1.x-p2.x)**2+(p1.y-p2.y)**2)"
   ]
  },
  {
   "cell_type": "code",
   "execution_count": 5,
   "id": "293a0b26",
   "metadata": {},
   "outputs": [],
   "source": [
    "def calc_cost(crom, mat):\n",
    "    total_cost = 0\n",
    "    lst = crom.path\n",
    "    n=len(lst)\n",
    "    # sum up the distances between each two adjacent genes\n",
    "    for i in range(1,n):\n",
    "        total_cost += mat[lst[i].name][lst[i-1].name]\n",
    "    \n",
    "    total_cost += mat[lst[0].name][lst[-1].name]\n",
    "    return total_cost"
   ]
  },
  {
   "cell_type": "code",
   "execution_count": 6,
   "id": "ae309314",
   "metadata": {},
   "outputs": [],
   "source": [
    "def gen_dist_matrix(data):\n",
    "    n = len(data)\n",
    "    mat = {}   \n",
    "    for point in data: \n",
    "        key = point.name\n",
    "        mat[key] = {}\n",
    "        # for each data point calc the distance between it and all the other points\n",
    "        for j in range(n):\n",
    "            p2 = data[j]\n",
    "            c = p2.name\n",
    "            mat[key][c] = calc_dist(point,p2)\n",
    "                \n",
    "    return mat"
   ]
  },
  {
   "cell_type": "markdown",
   "id": "6ae691fb",
   "metadata": {},
   "source": [
    "# Genetic Algorithm"
   ]
  },
  {
   "cell_type": "code",
   "execution_count": 7,
   "id": "de548684",
   "metadata": {},
   "outputs": [],
   "source": [
    "def fitness_score(population):\n",
    "    scores = []\n",
    "    # calc the cost for each crom in the pop \n",
    "    for chromosome in population:\n",
    "        cost=calc_cost(chromosome)\n",
    "        scores.append(cost)\n",
    "       \n",
    "    scores= np.array(scores)\n",
    "    \n",
    "    # get the indeces for the sorted scores accending\n",
    "    inds = np.argsort(scores)  \n",
    "    \n",
    "    # return the scores and pop according to the accending indeces \n",
    "    return list(scores[inds]), population[inds]"
   ]
  },
  {
   "cell_type": "code",
   "execution_count": 8,
   "id": "e2b6d8ac",
   "metadata": {},
   "outputs": [],
   "source": [
    "def selection(population,n):\n",
    "    # Use K-Tournament Selection and return the fittest one \n",
    "    candidates = random.choices(population, k=n)\n",
    "    return max(candidates, key = lambda x: x.fitness)"
   ]
  },
  {
   "cell_type": "code",
   "execution_count": 9,
   "id": "4b36a77c",
   "metadata": {},
   "outputs": [],
   "source": [
    "def elitism(percent, old_pop):\n",
    "    n = int(percent*len(old_pop))\n",
    "    sort = sorted(old_pop, key = lambda x: x.fitness, reverse=True)\n",
    "    return sort[:n+1]"
   ]
  },
  {
   "cell_type": "code",
   "execution_count": 10,
   "id": "67ab038f",
   "metadata": {},
   "outputs": [],
   "source": [
    "def partial_crossover(p1, p2, dist_mat):\n",
    "    ln = len(p1.path)\n",
    "    # random split range and divid the whole path into 3 ranges\n",
    "    range1 = random.randrange(ln-1)\n",
    "    range2 = random.randrange(ln-1)\n",
    "    \n",
    "    if range1 > range2:\n",
    "        range1, range2 = range2, range1\n",
    "        \n",
    "    c1 = deepcopy(p1)\n",
    "    c2 = deepcopy(p2)\n",
    "    \n",
    "    # iterate over the between range \n",
    "    for index in range(range1, range2+1):\n",
    "        # (c1 vs p2)\n",
    "        # look at the value in the opposite index for index in p2   \n",
    "        # and fing the duplicated value (dup)\n",
    "        dup = p2.path[index] \n",
    "        # find the index of duplicated value in c1 \n",
    "        dup_index = [d.name for d in c1.path].index(dup.name)\n",
    "        # swap index and dup_index in c1 \n",
    "        c1.path[index], c1.path[dup_index] = c1.path[dup_index], c1.path[index]\n",
    "        \n",
    "         # (c2 vs p1)\n",
    "        # look at the value in the opposite index for index in p1   \n",
    "        # and fing the duplicated value (dup)\n",
    "        dup = p1.path[index]\n",
    "        dup_index = [d.name for d in c2.path].index(dup.name)\n",
    "        # swap index and dup_index in c2\n",
    "        c2.path[index], c2.path[dup_index] = c2.path[dup_index], c2.path[index]\n",
    "    \n",
    "    \n",
    "    #  calc the cost for the new two croms\n",
    "    cost1=calc_cost(c1, dist_mat)\n",
    "    c1.cost=cost1\n",
    "    c1.fitness=1/cost1\n",
    "    \n",
    "    cost2=calc_cost(c2, dist_mat)\n",
    "    c2.cost=cost2\n",
    "    c2.fitness=1/cost2\n",
    "    \n",
    "    return c1, c2"
   ]
  },
  {
   "cell_type": "code",
   "execution_count": 11,
   "id": "ea4c16fe",
   "metadata": {},
   "outputs": [],
   "source": [
    "def crossover(prob,population,dist_mat):\n",
    "    \n",
    "    # Use K-Tournament Selection to choose the fittest candidate\n",
    "    parent1 = selection(population,5)\n",
    "    parent2 = selection(population,5)\n",
    "    \n",
    "    \n",
    "    #random r for each 2 fittest candidates if r less the crossover pertage then apply crossover\n",
    "    r = random.random()\n",
    "    \n",
    "    # if grater don't apply crossover \n",
    "    if r > prob: \n",
    "        return parent1,parent2   \n",
    "    \n",
    "    #  Use partially mapped Crossover\n",
    "    c1, c2 = partial_crossover(parent1, parent2, dist_mat)\n",
    "    if parent1.fitness > c1.fitness:\n",
    "        c1=parent1\n",
    "    if parent2.fitness > c2.fitness:\n",
    "        c2=parent2  \n",
    "        \n",
    "    return c1,c2"
   ]
  },
  {
   "cell_type": "code",
   "execution_count": 12,
   "id": "d4c7aa9f",
   "metadata": {},
   "outputs": [],
   "source": [
    "def mutation(prob, pop, dist_mat):\n",
    "    new_pop = []\n",
    "    \n",
    "    # apply mutation on the whole pop \n",
    "    for chrom in pop:\n",
    "        c = deepcopy(chrom)\n",
    "        \n",
    "        # random r for each crom if r less the mutation pertage then apply mutation on this crom\n",
    "        r = random.random()\n",
    "        if r < prob: \n",
    "            ln = len(chrom.path)\n",
    "            index1 = random.randrange(ln-1)\n",
    "            index2 = random.randrange(ln-1)\n",
    "            \n",
    "            # use swap mutation\n",
    "            c.path[index1], c.path[index2] = c.path[index2], c.path[index1]\n",
    "            \n",
    "        # calc the cost for the mutated crom\n",
    "        cost=calc_cost(c, dist_mat)\n",
    "        c.cost=cost\n",
    "        c.fitness=1/cost\n",
    "        \n",
    "        # add it to the new pop \n",
    "        new_pop.append(c)\n",
    "    return new_pop"
   ]
  },
  {
   "cell_type": "code",
   "execution_count": 13,
   "id": "3e6e3825",
   "metadata": {},
   "outputs": [],
   "source": [
    "def generate(lst_cities, n, dist_mat):\n",
    "    generation = []\n",
    "    # create random croms\n",
    "    for i in range(n):\n",
    "        crom = lst_cities.copy()\n",
    "        random.shuffle(crom)\n",
    "        \n",
    "        c = chromosome(crom)\n",
    "        # calculate the cost for the created crom path\n",
    "        cost = calc_cost(c, dist_mat)\n",
    "        \n",
    "        c.cost=cost\n",
    "        c.fitness=1/cost\n",
    "        # add the crom to the pop\n",
    "        generation.append(c)\n",
    "        \n",
    "    return generation"
   ]
  },
  {
   "cell_type": "code",
   "execution_count": 14,
   "id": "ddff4acc",
   "metadata": {},
   "outputs": [],
   "source": [
    "def generations(data,size=50,cross_over_rate=0.6,mutation_rate=0.1,elitism_per=0.1,gen_num=100):\n",
    "    best_chromo= []\n",
    "    best_score= []\n",
    "    # 1- generate distance matrix\n",
    "    dist_mat = gen_dist_matrix(data)\n",
    "    \n",
    "    # 2- generate intial population\n",
    "    population=generate(data,size,dist_mat)\n",
    "    \n",
    "    n=len(population)\n",
    "    for i in range(gen_num):\n",
    "        new_pop=[]\n",
    "       # add elitism to the new pop\n",
    "    \n",
    "        new_pop= elitism(elitism_per, population) \n",
    "        while(len(new_pop)<n):\n",
    "            \n",
    "            # apply crossover untill new pop size reach the old pop size\n",
    "            new_child1,new_child2=crossover(cross_over_rate,population,dist_mat)\n",
    "            new_pop.append(new_child1)\n",
    "            new_pop.append(new_child2)\n",
    "            \n",
    "        if len(new_pop) != n:\n",
    "            new_pop.pop()\n",
    "        \n",
    "        # apply mutation on the new pop \n",
    "        new_pop=mutation(mutation_rate, new_pop, dist_mat)\n",
    "       \n",
    "       # update pop \n",
    "        population=new_pop\n",
    "    \n",
    "    return population\n"
   ]
  },
  {
   "cell_type": "markdown",
   "id": "60ba148e",
   "metadata": {},
   "source": [
    "# Read data here"
   ]
  },
  {
   "cell_type": "code",
   "execution_count": 15,
   "id": "0b4672d4",
   "metadata": {},
   "outputs": [
    {
     "data": {
      "text/html": [
       "<div>\n",
       "<style scoped>\n",
       "    .dataframe tbody tr th:only-of-type {\n",
       "        vertical-align: middle;\n",
       "    }\n",
       "\n",
       "    .dataframe tbody tr th {\n",
       "        vertical-align: top;\n",
       "    }\n",
       "\n",
       "    .dataframe thead th {\n",
       "        text-align: right;\n",
       "    }\n",
       "</style>\n",
       "<table border=\"1\" class=\"dataframe\">\n",
       "  <thead>\n",
       "    <tr style=\"text-align: right;\">\n",
       "      <th></th>\n",
       "      <th>x</th>\n",
       "      <th>y</th>\n",
       "      <th>City</th>\n",
       "    </tr>\n",
       "  </thead>\n",
       "  <tbody>\n",
       "    <tr>\n",
       "      <th>0</th>\n",
       "      <td>5.500000e-08</td>\n",
       "      <td>9.860000e-09</td>\n",
       "      <td>1</td>\n",
       "    </tr>\n",
       "    <tr>\n",
       "      <th>1</th>\n",
       "      <td>-2.887330e+01</td>\n",
       "      <td>-7.980000e-08</td>\n",
       "      <td>2</td>\n",
       "    </tr>\n",
       "    <tr>\n",
       "      <th>2</th>\n",
       "      <td>-7.929160e+01</td>\n",
       "      <td>-2.140330e+01</td>\n",
       "      <td>3</td>\n",
       "    </tr>\n",
       "    <tr>\n",
       "      <th>3</th>\n",
       "      <td>-1.465770e+01</td>\n",
       "      <td>-4.338960e+01</td>\n",
       "      <td>4</td>\n",
       "    </tr>\n",
       "    <tr>\n",
       "      <th>4</th>\n",
       "      <td>-6.474730e+01</td>\n",
       "      <td>2.189820e+01</td>\n",
       "      <td>5</td>\n",
       "    </tr>\n",
       "    <tr>\n",
       "      <th>5</th>\n",
       "      <td>-2.905850e+01</td>\n",
       "      <td>-4.321670e+01</td>\n",
       "      <td>6</td>\n",
       "    </tr>\n",
       "    <tr>\n",
       "      <th>6</th>\n",
       "      <td>-7.207850e+01</td>\n",
       "      <td>1.815810e-01</td>\n",
       "      <td>7</td>\n",
       "    </tr>\n",
       "    <tr>\n",
       "      <th>7</th>\n",
       "      <td>-3.603660e+01</td>\n",
       "      <td>-2.161350e+01</td>\n",
       "      <td>8</td>\n",
       "    </tr>\n",
       "    <tr>\n",
       "      <th>8</th>\n",
       "      <td>-5.048080e+01</td>\n",
       "      <td>7.374470e+00</td>\n",
       "      <td>9</td>\n",
       "    </tr>\n",
       "    <tr>\n",
       "      <th>9</th>\n",
       "      <td>-5.058590e+01</td>\n",
       "      <td>-2.158820e+01</td>\n",
       "      <td>10</td>\n",
       "    </tr>\n",
       "    <tr>\n",
       "      <th>10</th>\n",
       "      <td>-1.358190e-01</td>\n",
       "      <td>-2.872930e+01</td>\n",
       "      <td>11</td>\n",
       "    </tr>\n",
       "    <tr>\n",
       "      <th>11</th>\n",
       "      <td>-6.508660e+01</td>\n",
       "      <td>-3.606250e+01</td>\n",
       "      <td>12</td>\n",
       "    </tr>\n",
       "    <tr>\n",
       "      <th>12</th>\n",
       "      <td>-2.149830e+01</td>\n",
       "      <td>7.319420e+00</td>\n",
       "      <td>13</td>\n",
       "    </tr>\n",
       "    <tr>\n",
       "      <th>13</th>\n",
       "      <td>-5.756870e+01</td>\n",
       "      <td>-4.325060e+01</td>\n",
       "      <td>14</td>\n",
       "    </tr>\n",
       "    <tr>\n",
       "      <th>14</th>\n",
       "      <td>-4.307000e+01</td>\n",
       "      <td>1.455480e+01</td>\n",
       "      <td>15</td>\n",
       "    </tr>\n",
       "  </tbody>\n",
       "</table>\n",
       "</div>"
      ],
      "text/plain": [
       "               x             y  City\n",
       "0   5.500000e-08  9.860000e-09     1\n",
       "1  -2.887330e+01 -7.980000e-08     2\n",
       "2  -7.929160e+01 -2.140330e+01     3\n",
       "3  -1.465770e+01 -4.338960e+01     4\n",
       "4  -6.474730e+01  2.189820e+01     5\n",
       "5  -2.905850e+01 -4.321670e+01     6\n",
       "6  -7.207850e+01  1.815810e-01     7\n",
       "7  -3.603660e+01 -2.161350e+01     8\n",
       "8  -5.048080e+01  7.374470e+00     9\n",
       "9  -5.058590e+01 -2.158820e+01    10\n",
       "10 -1.358190e-01 -2.872930e+01    11\n",
       "11 -6.508660e+01 -3.606250e+01    12\n",
       "12 -2.149830e+01  7.319420e+00    13\n",
       "13 -5.756870e+01 -4.325060e+01    14\n",
       "14 -4.307000e+01  1.455480e+01    15"
      ]
     },
     "execution_count": 15,
     "metadata": {},
     "output_type": "execute_result"
    }
   ],
   "source": [
    "df=pd.read_csv('15-Points.csv')\n",
    "df"
   ]
  },
  {
   "cell_type": "code",
   "execution_count": 16,
   "id": "97151bac",
   "metadata": {},
   "outputs": [],
   "source": [
    "data = [city(c,x,y) for c,x,y in zip(df['City'], df['x'], df['y'])]"
   ]
  },
  {
   "cell_type": "code",
   "execution_count": 17,
   "id": "42c81251",
   "metadata": {},
   "outputs": [],
   "source": [
    "size=50\n",
    "cross_over_rate=0.6\n",
    "mutation_rate=0.1\n",
    "elitism_per=0.02\n",
    "gen_num=100\n",
    "\n",
    "generation=generations(data,size,cross_over_rate,mutation_rate,elitism_per,gen_num)\n",
    "    "
   ]
  },
  {
   "cell_type": "code",
   "execution_count": 18,
   "id": "416e3b5e",
   "metadata": {},
   "outputs": [],
   "source": [
    "best = max(generation, key = lambda x: x.fitness)"
   ]
  },
  {
   "cell_type": "code",
   "execution_count": 20,
   "id": "44d293bb",
   "metadata": {},
   "outputs": [],
   "source": [
    "best.path.append(best.path[0])"
   ]
  },
  {
   "cell_type": "code",
   "execution_count": 21,
   "id": "bda772f8",
   "metadata": {},
   "outputs": [
    {
     "name": "stdout",
     "output_type": "stream",
     "text": [
      "10 -> 8 -> 6 -> 4 -> 11 -> 1 -> 13 -> 2 -> 15 -> 9 -> 5 -> 7 -> 3 -> 14 -> 12 -> 10 -> "
     ]
    }
   ],
   "source": [
    "for a in best.path:\n",
    "    print(a.name,'-> ',end='')"
   ]
  },
  {
   "cell_type": "code",
   "execution_count": 22,
   "id": "e4552261",
   "metadata": {},
   "outputs": [
    {
     "name": "stdout",
     "output_type": "stream",
     "text": [
      "Cost is :  292.50579675888645\n"
     ]
    }
   ],
   "source": [
    "print('Cost is : ',best.cost)"
   ]
  },
  {
   "cell_type": "code",
   "execution_count": 23,
   "id": "d68fe3f8",
   "metadata": {},
   "outputs": [],
   "source": [
    "def plot_cities(cities):\n",
    "    # Extract x and y coordinates into separate lists\n",
    "    x_coords = [city.x for city in cities.path]\n",
    "    y_coords = [city.y for city in cities.path]\n",
    "\n",
    "    # Create a Matplotlib figure\n",
    "    fig, ax = plt.subplots()\n",
    "\n",
    "    # Plot cities as scatter points\n",
    "    ax.scatter(x_coords, y_coords)\n",
    "\n",
    "    # Plot path between cities as lines\n",
    "    for i in range(len(cities.path)-1):\n",
    "        curr_city = cities.path[i]\n",
    "        next_city = cities.path[i+1]\n",
    "        ax.plot([curr_city.x, next_city.x], [curr_city.y, next_city.y],marker='>')\n",
    "\n",
    "    # Show the plot\n",
    "    plt.show()"
   ]
  },
  {
   "cell_type": "code",
   "execution_count": 24,
   "id": "afed0044",
   "metadata": {},
   "outputs": [
    {
     "data": {
      "image/png": "[encoded data removed]",
      "text/plain": [
       "<Figure size 432x288 with 1 Axes>"
      ]
     },
     "metadata": {
      "needs_background": "light"
     },
     "output_type": "display_data"
    }
   ],
   "source": [
    "plot_cities(best)"
   ]
  },
  {
   "cell_type": "code",
   "execution_count": null,
   "id": "1d6a9b46",
   "metadata": {},
   "outputs": [],
   "source": []
  }
 ],
 "metadata": {
  "kernelspec": {
   "display_name": "Python 3 (ipykernel)",
   "language": "python",
   "name": "python3"
  },
  "language_info": {
   "codemirror_mode": {
    "name": "ipython",
    "version": 3
   },
   "file_extension": ".py",
   "mimetype": "text/x-python",
   "name": "python",
   "nbconvert_exporter": "python",
   "pygments_lexer": "ipython3",
   "version": "3.9.7"
  }
 },
 "nbformat": 4,
 "nbformat_minor": 5
}
