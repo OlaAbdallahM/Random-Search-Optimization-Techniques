{
 "cells": [
  {
   "cell_type": "code",
   "execution_count": 1,
   "id": "8f10dde0",
   "metadata": {},
   "outputs": [],
   "source": [
    "import numpy as np\n",
    "import pandas as pd\n",
    "import random\n",
    "from copy import deepcopy\n",
    "import matplotlib.pyplot as plt"
   ]
  },
  {
   "cell_type": "code",
   "execution_count": 2,
   "id": "c6c5d86f",
   "metadata": {},
   "outputs": [],
   "source": [
    "class city():\n",
    "    def __init__(self,name,x,y):\n",
    "        self.name=name\n",
    "        self.x=x\n",
    "        self.y=y\n",
    "        \n",
    "    def __repr__(self):\n",
    "        print(self.name,self.x,self.x)\n",
    "        return ''"
   ]
  },
  {
   "cell_type": "code",
   "execution_count": 3,
   "id": "6ae6be2c",
   "metadata": {},
   "outputs": [],
   "source": [
    "def calc_dist(p1,p2):\n",
    "    return np.sqrt((p1.x-p2.x)**2+(p1.y-p2.y)**2)"
   ]
  },
  {
   "cell_type": "code",
   "execution_count": 4,
   "id": "b7f1ed9a",
   "metadata": {},
   "outputs": [],
   "source": [
    "def calc_cost(crom, mat):\n",
    "    total_cost = 0\n",
    "    lst = crom.path\n",
    "    n=len(lst)\n",
    "    # sum up the distances between each two adjacent genes\n",
    "    for i in range(1,n):\n",
    "        total_cost += mat[lst[i].name][lst[i-1].name]\n",
    "    \n",
    "    total_cost += mat[lst[0].name][lst[-1].name]\n",
    "    return total_cost"
   ]
  },
  {
   "cell_type": "code",
   "execution_count": 5,
   "id": "04f70864",
   "metadata": {},
   "outputs": [],
   "source": [
    "def gen_dist_matrix(data):\n",
    "    n = len(data)\n",
    "    mat = {}   \n",
    "    for point in data: \n",
    "        key = point.name\n",
    "        mat[key] = {}\n",
    "        # for each data point calc the distance between it and all the other points\n",
    "        for j in range(n):\n",
    "            p2 = data[j]\n",
    "            c = p2.name\n",
    "            mat[key][c] = calc_dist(point,p2)\n",
    "                \n",
    "    return mat"
   ]
  },
  {
   "cell_type": "markdown",
   "id": "0f85dea1",
   "metadata": {},
   "source": [
    "# **TSP using N-N**"
   ]
  },
  {
   "cell_type": "code",
   "execution_count": 6,
   "id": "aa4b1883",
   "metadata": {},
   "outputs": [],
   "source": [
    "def pick_move(data,city,mat,vis):\n",
    "    min_dist = np.inf\n",
    "    cur = -1\n",
    "    for point in data:\n",
    "        if point.name not in vis:\n",
    "            if mat[city.name][point.name] <  min_dist:\n",
    "                min_dist = mat[city.name][point.name]\n",
    "                cur=point\n",
    "    return cur, min_dist"
   ]
  },
  {
   "cell_type": "code",
   "execution_count": 7,
   "id": "6a8107c4",
   "metadata": {},
   "outputs": [],
   "source": [
    "def generations(data):\n",
    "    n=len(data)\n",
    "    # 1- generate distance matrix\n",
    "    dist_mat = gen_dist_matrix(data)\n",
    "    vis = {}\n",
    "    #chose a random start C0\n",
    "    C0 = random.randrange(n-1)\n",
    "    city = data[C0] \n",
    "    path = [city]\n",
    "    vis[city.name] = 1\n",
    "    \n",
    "    total_cost=0\n",
    "    # loop until construct one path of length n\n",
    "    while len(vis) < n:\n",
    "        # choose the next city in crom according to the shortest path\n",
    "        nxt,cost=pick_move(data,city, dist_mat,vis)\n",
    "        # append city into path and mark it in the visited list\n",
    "        path.append(nxt)\n",
    "        vis[nxt.name] = 1\n",
    "        # update the current city\n",
    "        city= nxt\n",
    "        total_cost+=cost\n",
    "        \n",
    "    total_cost+=dist_mat[city.name][path[0].name]\n",
    "    path.append(path[0])\n",
    "    \n",
    "    return path,total_cost"
   ]
  },
  {
   "cell_type": "markdown",
   "id": "02610dd0",
   "metadata": {},
   "source": [
    "# Read data here"
   ]
  },
  {
   "cell_type": "code",
   "execution_count": 8,
   "id": "d492e5a7",
   "metadata": {},
   "outputs": [
    {
     "data": {
      "text/html": [
       "<div>\n",
       "<style scoped>\n",
       "    .dataframe tbody tr th:only-of-type {\n",
       "        vertical-align: middle;\n",
       "    }\n",
       "\n",
       "    .dataframe tbody tr th {\n",
       "        vertical-align: top;\n",
       "    }\n",
       "\n",
       "    .dataframe thead th {\n",
       "        text-align: right;\n",
       "    }\n",
       "</style>\n",
       "<table border=\"1\" class=\"dataframe\">\n",
       "  <thead>\n",
       "    <tr style=\"text-align: right;\">\n",
       "      <th></th>\n",
       "      <th>x</th>\n",
       "      <th>y</th>\n",
       "      <th>City</th>\n",
       "    </tr>\n",
       "  </thead>\n",
       "  <tbody>\n",
       "    <tr>\n",
       "      <th>0</th>\n",
       "      <td>5.500000e-08</td>\n",
       "      <td>9.860000e-09</td>\n",
       "      <td>1</td>\n",
       "    </tr>\n",
       "    <tr>\n",
       "      <th>1</th>\n",
       "      <td>-2.887330e+01</td>\n",
       "      <td>-7.980000e-08</td>\n",
       "      <td>2</td>\n",
       "    </tr>\n",
       "    <tr>\n",
       "      <th>2</th>\n",
       "      <td>-7.929160e+01</td>\n",
       "      <td>-2.140330e+01</td>\n",
       "      <td>3</td>\n",
       "    </tr>\n",
       "    <tr>\n",
       "      <th>3</th>\n",
       "      <td>-1.465770e+01</td>\n",
       "      <td>-4.338960e+01</td>\n",
       "      <td>4</td>\n",
       "    </tr>\n",
       "    <tr>\n",
       "      <th>4</th>\n",
       "      <td>-6.474730e+01</td>\n",
       "      <td>2.189820e+01</td>\n",
       "      <td>5</td>\n",
       "    </tr>\n",
       "    <tr>\n",
       "      <th>5</th>\n",
       "      <td>-2.905850e+01</td>\n",
       "      <td>-4.321670e+01</td>\n",
       "      <td>6</td>\n",
       "    </tr>\n",
       "    <tr>\n",
       "      <th>6</th>\n",
       "      <td>-7.207850e+01</td>\n",
       "      <td>1.815810e-01</td>\n",
       "      <td>7</td>\n",
       "    </tr>\n",
       "    <tr>\n",
       "      <th>7</th>\n",
       "      <td>-3.603660e+01</td>\n",
       "      <td>-2.161350e+01</td>\n",
       "      <td>8</td>\n",
       "    </tr>\n",
       "    <tr>\n",
       "      <th>8</th>\n",
       "      <td>-5.048080e+01</td>\n",
       "      <td>7.374470e+00</td>\n",
       "      <td>9</td>\n",
       "    </tr>\n",
       "    <tr>\n",
       "      <th>9</th>\n",
       "      <td>-5.058590e+01</td>\n",
       "      <td>-2.158820e+01</td>\n",
       "      <td>10</td>\n",
       "    </tr>\n",
       "    <tr>\n",
       "      <th>10</th>\n",
       "      <td>-1.358190e-01</td>\n",
       "      <td>-2.872930e+01</td>\n",
       "      <td>11</td>\n",
       "    </tr>\n",
       "    <tr>\n",
       "      <th>11</th>\n",
       "      <td>-6.508660e+01</td>\n",
       "      <td>-3.606250e+01</td>\n",
       "      <td>12</td>\n",
       "    </tr>\n",
       "    <tr>\n",
       "      <th>12</th>\n",
       "      <td>-2.149830e+01</td>\n",
       "      <td>7.319420e+00</td>\n",
       "      <td>13</td>\n",
       "    </tr>\n",
       "    <tr>\n",
       "      <th>13</th>\n",
       "      <td>-5.756870e+01</td>\n",
       "      <td>-4.325060e+01</td>\n",
       "      <td>14</td>\n",
       "    </tr>\n",
       "    <tr>\n",
       "      <th>14</th>\n",
       "      <td>-4.307000e+01</td>\n",
       "      <td>1.455480e+01</td>\n",
       "      <td>15</td>\n",
       "    </tr>\n",
       "  </tbody>\n",
       "</table>\n",
       "</div>"
      ],
      "text/plain": [
       "               x             y  City\n",
       "0   5.500000e-08  9.860000e-09     1\n",
       "1  -2.887330e+01 -7.980000e-08     2\n",
       "2  -7.929160e+01 -2.140330e+01     3\n",
       "3  -1.465770e+01 -4.338960e+01     4\n",
       "4  -6.474730e+01  2.189820e+01     5\n",
       "5  -2.905850e+01 -4.321670e+01     6\n",
       "6  -7.207850e+01  1.815810e-01     7\n",
       "7  -3.603660e+01 -2.161350e+01     8\n",
       "8  -5.048080e+01  7.374470e+00     9\n",
       "9  -5.058590e+01 -2.158820e+01    10\n",
       "10 -1.358190e-01 -2.872930e+01    11\n",
       "11 -6.508660e+01 -3.606250e+01    12\n",
       "12 -2.149830e+01  7.319420e+00    13\n",
       "13 -5.756870e+01 -4.325060e+01    14\n",
       "14 -4.307000e+01  1.455480e+01    15"
      ]
     },
     "execution_count": 8,
     "metadata": {},
     "output_type": "execute_result"
    }
   ],
   "source": [
    "df=pd.read_csv('15-Points.csv')\n",
    "df"
   ]
  },
  {
   "cell_type": "code",
   "execution_count": 9,
   "id": "4a488dda",
   "metadata": {},
   "outputs": [],
   "source": [
    "data = [city(c,x,y) for c,x,y in zip(df['City'], df['x'], df['y'])]"
   ]
  },
  {
   "cell_type": "code",
   "execution_count": 10,
   "id": "1a706ae9",
   "metadata": {},
   "outputs": [],
   "source": [
    "path,cost=generations(data)"
   ]
  },
  {
   "cell_type": "code",
   "execution_count": 11,
   "id": "9b7fdbfd",
   "metadata": {},
   "outputs": [
    {
     "name": "stdout",
     "output_type": "stream",
     "text": [
      "9 -50.4808 -50.4808\n",
      "15 -43.07 -43.07\n",
      "2 -28.8733 -28.8733\n",
      "13 -21.4983 -21.4983\n",
      "1 5.5e-08 5.5e-08\n",
      "11 -0.135819 -0.135819\n",
      "4 -14.6577 -14.6577\n",
      "6 -29.0585 -29.0585\n",
      "8 -36.0366 -36.0366\n",
      "10 -50.5859 -50.5859\n",
      "12 -65.0866 -65.0866\n",
      "14 -57.5687 -57.5687\n",
      "3 -79.2916 -79.2916\n",
      "7 -72.0785 -72.0785\n",
      "5 -64.7473 -64.7473\n",
      "9 -50.4808 -50.4808\n"
     ]
    },
    {
     "data": {
      "text/plain": [
       "[, , , , , , , , , , , , , , , ]"
      ]
     },
     "execution_count": 11,
     "metadata": {},
     "output_type": "execute_result"
    }
   ],
   "source": [
    "path"
   ]
  },
  {
   "cell_type": "code",
   "execution_count": null,
   "id": "0d55bea0",
   "metadata": {},
   "outputs": [],
   "source": []
  },
  {
   "cell_type": "code",
   "execution_count": 12,
   "id": "ed95d5f5",
   "metadata": {},
   "outputs": [
    {
     "name": "stdout",
     "output_type": "stream",
     "text": [
      "Cost is :  292.50579675888645\n"
     ]
    }
   ],
   "source": [
    "print('Cost is : ',cost)"
   ]
  },
  {
   "cell_type": "code",
   "execution_count": 13,
   "id": "7bfbc147",
   "metadata": {},
   "outputs": [],
   "source": [
    "def plot_cities(cities):\n",
    "    # Extract x and y coordinates into separate lists\n",
    "    x_coords = [city.x for city in cities]\n",
    "    y_coords = [city.y for city in cities]\n",
    "\n",
    "    # Create a Matplotlib figure\n",
    "    fig, ax = plt.subplots()\n",
    "\n",
    "    # Plot cities as scatter points\n",
    "    ax.scatter(x_coords, y_coords)\n",
    "\n",
    "    # Plot path between cities as lines\n",
    "    for i in range(len(cities)-1):\n",
    "        curr_city = cities[i]\n",
    "        next_city = cities[i+1]\n",
    "        ax.plot([curr_city.x, next_city.x], [curr_city.y, next_city.y],marker='>')\n",
    "\n",
    "    # Show the plot\n",
    "    plt.show()"
   ]
  },
  {
   "cell_type": "code",
   "execution_count": 14,
   "id": "2ee91128",
   "metadata": {},
   "outputs": [
    {
     "data": {
      "image/png": "[encoded data removed]",
      "text/plain": [
       "<Figure size 432x288 with 1 Axes>"
      ]
     },
     "metadata": {
      "needs_background": "light"
     },
     "output_type": "display_data"
    }
   ],
   "source": [
    "plot_cities(path)"
   ]
  },
  {
   "cell_type": "code",
   "execution_count": null,
   "id": "795bff8e",
   "metadata": {},
   "outputs": [],
   "source": []
  }
 ],
 "metadata": {
  "kernelspec": {
   "display_name": "Python 3 (ipykernel)",
   "language": "python",
   "name": "python3"
  },
  "language_info": {
   "codemirror_mode": {
    "name": "ipython",
    "version": 3
   },
   "file_extension": ".py",
   "mimetype": "text/x-python",
   "name": "python",
   "nbconvert_exporter": "python",
   "pygments_lexer": "ipython3",
   "version": "3.9.7"
  }
 },
 "nbformat": 4,
 "nbformat_minor": 5
}
